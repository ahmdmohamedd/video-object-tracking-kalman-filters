{
 "cells": [
  {
   "cell_type": "code",
   "execution_count": 1,
   "id": "784d4ebd-4c26-4841-bdd4-1fa811030d90",
   "metadata": {},
   "outputs": [],
   "source": [
    "import cv2\n",
    "import numpy as np\n",
    "from matplotlib import pyplot as plt"
   ]
  },
  {
   "cell_type": "code",
   "execution_count": 2,
   "id": "786a3654-b2c7-462a-b86c-469096cf6802",
   "metadata": {},
   "outputs": [],
   "source": [
    "# Create a Kalman filter object\n",
    "kalman = cv2.KalmanFilter(4, 2)\n",
    "\n",
    "# State [x, y, delta_x, delta_y] where x, y are the position and delta_x, delta_y are the velocity\n",
    "kalman.statePre = np.zeros((4, 1), dtype=np.float32)\n",
    "\n",
    "# Transition matrix\n",
    "kalman.transitionMatrix = np.array([[1, 0, 1, 0],\n",
    "                                    [0, 1, 0, 1],\n",
    "                                    [0, 0, 1, 0],\n",
    "                                    [0, 0, 0, 1]], dtype=np.float32)\n",
    "\n",
    "# Measurement matrix\n",
    "kalman.measurementMatrix = np.array([[1, 0, 0, 0],\n",
    "                                     [0, 1, 0, 0]], dtype=np.float32)\n",
    "\n",
    "# Process noise covariance matrix\n",
    "kalman.processNoiseCov = np.array([[1e-4, 0, 0, 0],\n",
    "                                   [0, 1e-4, 0, 0],\n",
    "                                   [0, 0, 1e-4, 0],\n",
    "                                   [0, 0, 0, 1e-4]], dtype=np.float32)\n",
    "\n",
    "# Measurement noise covariance matrix\n",
    "kalman.measurementNoiseCov = np.array([[1, 0],\n",
    "                                       [0, 1]], dtype=np.float32)\n",
    "\n",
    "# Error covariance matrix\n",
    "kalman.errorCovPost = np.eye(4, dtype=np.float32)"
   ]
  },
  {
   "cell_type": "code",
   "execution_count": 3,
   "id": "c81e173a-b2eb-4b50-8e8a-b9bad44ef0a9",
   "metadata": {},
   "outputs": [],
   "source": [
    "# Load the video (replace with the path to your video file)\n",
    "cap = cv2.VideoCapture('test_video.mp4')\n",
    "\n",
    "# Read the first frame\n",
    "ret, frame = cap.read()\n",
    "\n",
    "# Define a region of interest (ROI) to track the object\n",
    "# For demonstration purposes, let's manually define an ROI.\n",
    "x, y, w, h = 300, 200, 50, 50  # You can change this to the object position\n",
    "track_window = (x, y, w, h)\n",
    "\n",
    "# Initialize the Kalman filter with the first position\n",
    "kalman.statePre = np.array([[x], [y], [0], [0]], dtype=np.float32)"
   ]
  },
  {
   "cell_type": "code",
   "execution_count": 7,
   "id": "e16f88d0-fada-446f-8094-2b154c79241f",
   "metadata": {},
   "outputs": [
    {
     "ename": "error",
     "evalue": "OpenCV(4.10.0) D:\\a\\opencv-python\\opencv-python\\opencv\\modules\\highgui\\src\\window.cpp:1295: error: (-2:Unspecified error) The function is not implemented. Rebuild the library with Windows, GTK+ 2.x or Cocoa support. If you are on Ubuntu or Debian, install libgtk2.0-dev and pkg-config, then re-run cmake or configure script in function 'cvDestroyAllWindows'\n",
     "output_type": "error",
     "traceback": [
      "\u001b[1;31m---------------------------------------------------------------------------\u001b[0m",
      "\u001b[1;31merror\u001b[0m                                     Traceback (most recent call last)",
      "Cell \u001b[1;32mIn[7], line 32\u001b[0m\n\u001b[0;32m     30\u001b[0m \u001b[38;5;66;03m# Release the video capture object and close all windows\u001b[39;00m\n\u001b[0;32m     31\u001b[0m cap\u001b[38;5;241m.\u001b[39mrelease()\n\u001b[1;32m---> 32\u001b[0m \u001b[43mcv2\u001b[49m\u001b[38;5;241;43m.\u001b[39;49m\u001b[43mdestroyAllWindows\u001b[49m\u001b[43m(\u001b[49m\u001b[43m)\u001b[49m\n",
      "\u001b[1;31merror\u001b[0m: OpenCV(4.10.0) D:\\a\\opencv-python\\opencv-python\\opencv\\modules\\highgui\\src\\window.cpp:1295: error: (-2:Unspecified error) The function is not implemented. Rebuild the library with Windows, GTK+ 2.x or Cocoa support. If you are on Ubuntu or Debian, install libgtk2.0-dev and pkg-config, then re-run cmake or configure script in function 'cvDestroyAllWindows'\n"
     ]
    }
   ],
   "source": [
    "while True:\n",
    "    ret, frame = cap.read()\n",
    "    if not ret:\n",
    "        break\n",
    "\n",
    "    # Get the prediction from Kalman filter\n",
    "    prediction = kalman.predict()\n",
    "    pred_x, pred_y = int(prediction[0]), int(prediction[1])\n",
    "\n",
    "    # Draw the predicted position\n",
    "    cv2.circle(frame, (pred_x, pred_y), 10, (0, 0, 255), -1)\n",
    "\n",
    "    # Crop the region of interest from the frame (simulating object detection)\n",
    "    # In a real-world scenario, you would use a tracker like SORT or another object detection model\n",
    "    roi = frame[y:y+h, x:x+w]\n",
    "    \n",
    "    # Update the Kalman filter with the actual position (measured)\n",
    "    kalman.correct(np.array([[x + w//2], [y + h//2]], dtype=np.float32))\n",
    "\n",
    "    # Display the tracking window\n",
    "    cv2.rectangle(frame, (x, y), (x+w, y+h), (0, 255, 0), 2)\n",
    "\n",
    "    # Show the frame\n",
    "    cv2.imshow('Object Tracking', frame)\n",
    "\n",
    "    # Wait for the user to press 'q' to exit\n",
    "    if cv2.waitKey(1) & 0xFF == ord('q'):\n",
    "        break\n",
    "\n",
    "# Release the video capture object and close all windows\n",
    "cap.release()\n",
    "cv2.destroyAllWindows()"
   ]
  }
 ],
 "metadata": {
  "kernelspec": {
   "display_name": "Python 3 (ipykernel)",
   "language": "python",
   "name": "python3"
  },
  "language_info": {
   "codemirror_mode": {
    "name": "ipython",
    "version": 3
   },
   "file_extension": ".py",
   "mimetype": "text/x-python",
   "name": "python",
   "nbconvert_exporter": "python",
   "pygments_lexer": "ipython3",
   "version": "3.9.18"
  }
 },
 "nbformat": 4,
 "nbformat_minor": 5
}
